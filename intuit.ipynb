{
 "cells": [
  {
   "cell_type": "markdown",
   "metadata": {},
   "source": [
    "# Intuit Quickbooks Upgrade\n",
    "\n",
    "* Team-lead GitLab userid: 236\n",
    "* Group name: Just4noobs\n",
    "* Team member names: Kaicheng Yang, Songqiao Li, Yanqiao Li, Tiancheng Kuang"
   ]
  },
  {
   "cell_type": "markdown",
   "metadata": {},
   "source": [
    "## Setup\n",
    "\n",
    "Please complete this python notebook with your group by answering the questions in `intuit.pdf`. Create a Notebook and HTML file with all your results and comments and push both the Notebook and HTML file to GitLab when your team is done. All results MUST be reproducible (i.e., the TA and I must be able to recreate the HTML file from the Jupyter Notebook without changes or errors). This means that you should NOT use any python-packages that are not part of the rsm-msba-spark docker container.\n",
    "\n",
    "This is the first group assignment for MGTA 455 and you will be using Git and GitLab. If two people edit the same file at the same time you could get what is called a \"merge conflict\". This is not something serious but you should realize that Git will not decide for you who's change to accept so the team-lead will have to determine the edits to use. To avoid merge conflicts, **always** \"pull\" changes to the repo before you start working on any files. Then, when you are done, save and commit your changes, and then push them to GitLab. Make \"pull first\" a habit!\n",
    "\n",
    "If multiple people are going to work on the assignment at the same time I recommend you work in different notebooks. You can then `%run ...`  these \"sub\" notebooks from the main assignment file. You can seen an example of this in action below for the `question1.ipynb` notebook\n",
    "\n",
    "Some group work-flow tips:\n",
    "\n",
    "* Pull, edit, save, stage, commit, and push\n",
    "* Schedule who does what and when\n",
    "* Try to avoid working simultaneously on the same file \n",
    "* If you are going to work simultaneously, do it in different notebooks, e.g., \n",
    "    - question1.ipynb, question2.ipynb, question3.ipynb\n",
    "* Use the `%run ... ` command to bring different pieces of code together into the main jupyter notebook\n",
    "* Put python functions in modules that you can import from your notebooks. See the example below for the `example` function defined in `utils/functions.py`\n",
    "\n",
    "A graphical depiction of the group work-flow is shown below:\n",
    "\n",
    "![](images/git-group-workflow-wbg.png)\n",
    "\n",
    "Tutorial videos about using Git, GitLab, and GitGadget for group assignments:\n",
    "\n",
    "* Setup the MSBA server to use Git and GitLab: https://youtu.be/zJHwodmjatY\n",
    "* Dealing with Merge Conflicts: https://youtu.be/qFnyb8_rgTI\n",
    "* Group assignment practice: https://youtu.be/4Ty_94gIWeA"
   ]
  },
  {
   "cell_type": "code",
   "execution_count": 1,
   "metadata": {},
   "outputs": [],
   "source": [
    "import matplotlib as mpl\n",
    "import matplotlib.pyplot as plt\n",
    "import numpy as np\n",
    "import pandas as pd\n",
    "import pyrsm as rsm\n",
    "import statsmodels.formula.api as smf\n",
    "from sklearn import preprocessing\n",
    "from statsmodels.genmod.families import Binomial\n",
    "from statsmodels.genmod.families.links import logit\n",
    "import seaborn as sns\n",
    "\n",
    "#increase plot resolution\n",
    "mpl.rcParams[\"figure.dpi\"] = 100"
   ]
  },
  {
   "cell_type": "code",
   "execution_count": 2,
   "metadata": {},
   "outputs": [
    {
     "data": {
      "text/html": [
       "<div>\n",
       "<style scoped>\n",
       "    .dataframe tbody tr th:only-of-type {\n",
       "        vertical-align: middle;\n",
       "    }\n",
       "\n",
       "    .dataframe tbody tr th {\n",
       "        vertical-align: top;\n",
       "    }\n",
       "\n",
       "    .dataframe thead th {\n",
       "        text-align: right;\n",
       "    }\n",
       "</style>\n",
       "<table border=\"1\" class=\"dataframe\">\n",
       "  <thead>\n",
       "    <tr style=\"text-align: right;\">\n",
       "      <th></th>\n",
       "      <th>id</th>\n",
       "      <th>zip</th>\n",
       "      <th>zip_bins</th>\n",
       "      <th>sex</th>\n",
       "      <th>bizflag</th>\n",
       "      <th>numords</th>\n",
       "      <th>dollars</th>\n",
       "      <th>last</th>\n",
       "      <th>sincepurch</th>\n",
       "      <th>version1</th>\n",
       "      <th>owntaxprod</th>\n",
       "      <th>upgraded</th>\n",
       "      <th>res1</th>\n",
       "      <th>training</th>\n",
       "      <th>res1_yes</th>\n",
       "    </tr>\n",
       "  </thead>\n",
       "  <tbody>\n",
       "    <tr>\n",
       "      <th>0</th>\n",
       "      <td>1</td>\n",
       "      <td>94553</td>\n",
       "      <td>18</td>\n",
       "      <td>Male</td>\n",
       "      <td>0</td>\n",
       "      <td>2</td>\n",
       "      <td>109.5</td>\n",
       "      <td>5</td>\n",
       "      <td>12</td>\n",
       "      <td>0</td>\n",
       "      <td>0</td>\n",
       "      <td>0</td>\n",
       "      <td>No</td>\n",
       "      <td>1</td>\n",
       "      <td>0</td>\n",
       "    </tr>\n",
       "    <tr>\n",
       "      <th>1</th>\n",
       "      <td>2</td>\n",
       "      <td>53190</td>\n",
       "      <td>10</td>\n",
       "      <td>Unknown</td>\n",
       "      <td>0</td>\n",
       "      <td>1</td>\n",
       "      <td>69.5</td>\n",
       "      <td>4</td>\n",
       "      <td>3</td>\n",
       "      <td>0</td>\n",
       "      <td>0</td>\n",
       "      <td>0</td>\n",
       "      <td>No</td>\n",
       "      <td>0</td>\n",
       "      <td>0</td>\n",
       "    </tr>\n",
       "    <tr>\n",
       "      <th>2</th>\n",
       "      <td>3</td>\n",
       "      <td>37091</td>\n",
       "      <td>8</td>\n",
       "      <td>Male</td>\n",
       "      <td>0</td>\n",
       "      <td>4</td>\n",
       "      <td>93.0</td>\n",
       "      <td>14</td>\n",
       "      <td>29</td>\n",
       "      <td>0</td>\n",
       "      <td>0</td>\n",
       "      <td>1</td>\n",
       "      <td>No</td>\n",
       "      <td>0</td>\n",
       "      <td>0</td>\n",
       "    </tr>\n",
       "    <tr>\n",
       "      <th>3</th>\n",
       "      <td>4</td>\n",
       "      <td>02125</td>\n",
       "      <td>1</td>\n",
       "      <td>Male</td>\n",
       "      <td>0</td>\n",
       "      <td>1</td>\n",
       "      <td>22.0</td>\n",
       "      <td>17</td>\n",
       "      <td>1</td>\n",
       "      <td>0</td>\n",
       "      <td>0</td>\n",
       "      <td>0</td>\n",
       "      <td>No</td>\n",
       "      <td>1</td>\n",
       "      <td>0</td>\n",
       "    </tr>\n",
       "    <tr>\n",
       "      <th>4</th>\n",
       "      <td>5</td>\n",
       "      <td>60201</td>\n",
       "      <td>11</td>\n",
       "      <td>Male</td>\n",
       "      <td>0</td>\n",
       "      <td>1</td>\n",
       "      <td>24.5</td>\n",
       "      <td>2</td>\n",
       "      <td>3</td>\n",
       "      <td>0</td>\n",
       "      <td>0</td>\n",
       "      <td>0</td>\n",
       "      <td>No</td>\n",
       "      <td>0</td>\n",
       "      <td>0</td>\n",
       "    </tr>\n",
       "  </tbody>\n",
       "</table>\n",
       "</div>"
      ],
      "text/plain": [
       "   id    zip  zip_bins      sex  bizflag  numords  dollars  last  sincepurch  \\\n",
       "0   1  94553        18     Male        0        2    109.5     5          12   \n",
       "1   2  53190        10  Unknown        0        1     69.5     4           3   \n",
       "2   3  37091         8     Male        0        4     93.0    14          29   \n",
       "3   4  02125         1     Male        0        1     22.0    17           1   \n",
       "4   5  60201        11     Male        0        1     24.5     2           3   \n",
       "\n",
       "   version1  owntaxprod  upgraded res1  training  res1_yes  \n",
       "0         0           0         0   No         1         0  \n",
       "1         0           0         0   No         0         0  \n",
       "2         0           0         1   No         0         0  \n",
       "3         0           0         0   No         1         0  \n",
       "4         0           0         0   No         0         0  "
      ]
     },
     "execution_count": 2,
     "metadata": {},
     "output_type": "execute_result"
    }
   ],
   "source": [
    "## loading the data - this dataset must NOT be changed\n",
    "intuit75k = pd.read_pickle(\"data/intuit75k.pkl\")\n",
    "intuit75k[\"res1_yes\"] = rsm.ifelse(intuit75k.res1 == \"Yes\", 1, 0)\n",
    "intuit75k.head()"
   ]
  },
  {
   "cell_type": "code",
   "execution_count": 3,
   "metadata": {},
   "outputs": [
    {
     "data": {
      "text/markdown": [
       "## Intuit: Quickbooks upgrade\n",
       "\n",
       "The purpose of this exercise is to gain experience modeling the response to an upsell campaign. The `intuit75k.rds` file contains data on 75,000 (small) businesses that were selected randomly from the 801,821 that were sent the wave-1 mailing. The mailing contained an offer to upgrade to the latest version of the Quickbooks software. \n",
       "\n",
       "Variable `res1` denotes which of these businesses responded to the mailing by purchasing Quickbooks version 3.0 from Intuit Direct. Note that Intuit Direct sells products directly to its customers rather than through a retailer. Use the available data to predict which businesses that did not respond to the wave-1 mailing, are most likely to respond to the wave-2 mailing. Note that variables were added, deleted, and recoded so please ignore the variable descriptions in Exhibit 3 in the case in the course reader. Instead, use the variable descriptions below:\n",
       "\n",
       "## Variable description\n",
       "\n",
       "* id: Small business customer ID\n",
       "* zip: 5-Digit ZIP Code (00000=unknown, 99999=international ZIPs).\n",
       "* zip_bins: Zip-code bins (20 approx. equal sized bins from lowest to highest zip code number)\n",
       "* sex: \"Female\", \"Male\", or \"Unknown\"\n",
       "* bizflag: Business Flag.  Address contains a Business name (1 = yes, 0 = no or unknown).\n",
       "* numords: Number of orders from Intuit Direct in the previous 36 months\n",
       "* dollars: Total $ ordered from Intuit Direct in the previous 36 months\n",
       "* last: Time (in months) since last order from Intuit Direct in previous 36 months\n",
       "* sincepurch: Time (in months) since original (not upgrade) purchase of Quickbooks\n",
       "* version1: Is 1 if customer's current Quickbooks is version 1, 0 if version 2\n",
       "* owntaxprod: Is 1 if customer purchased tax software, 0 otherwise\n",
       "* upgraded: Is 1 if customer upgraded from Quickbooks vs. 1 to vs. 2\n",
       "* res1: Response to wave 1 mailing (\"Yes\" if responded else \"No\")\n",
       "* training: 70/30 split, 1 for training sample, 0 for validation sample\n"
      ],
      "text/plain": [
       "<IPython.core.display.Markdown object>"
      ]
     },
     "metadata": {},
     "output_type": "display_data"
    }
   ],
   "source": [
    "# show dataset description\n",
    "rsm.describe(intuit75k)"
   ]
  },
  {
   "cell_type": "code",
   "execution_count": 4,
   "metadata": {},
   "outputs": [
    {
     "name": "stdout",
     "output_type": "stream",
     "text": [
      "      index     OR     OR%   2.5%  97.5% p.values     \n",
      "1   numords  1.352   35.2%  1.313  1.392   < .001  ***\n",
      "2  version1  2.113  111.3%  1.911  2.335   < .001  ***\n",
      "3  upgraded  2.628  162.8%  2.388  2.894   < .001  ***\n"
     ]
    }
   ],
   "source": [
    "# run python code from another notebook\n",
    "%run ./sub-notebooks/question1.ipynb"
   ]
  },
  {
   "cell_type": "code",
   "execution_count": 5,
   "metadata": {},
   "outputs": [
    {
     "name": "stdout",
     "output_type": "stream",
     "text": [
      "\n",
      "You just accessed a function from your first python packages!\n",
      "Change the code in utils/function.py to whatever you need for this assignment\n",
      "Use 'from utils import functions' to get access to your code\n",
      "You can add modules to import from by adding additional .py files to the 'utils' directory\n",
      "Note: If you make changes to the content of this file you will have to restart the notebook kernel to get the updates\n",
      "\n"
     ]
    }
   ],
   "source": [
    "# importing functions from a module/package\n",
    "from utils import functions\n",
    "functions.example()"
   ]
  },
  {
   "cell_type": "code",
   "execution_count": 6,
   "metadata": {},
   "outputs": [],
   "source": [
    "# Add columns `rec_iq`, `freq_iq`, and `mon_iq` to the `tuango` DataFrame\n",
    "intuit75k = intuit75k.assign(rec_iq=rsm.xtile(intuit75k[\"last\"], 5),\n",
    "                       freq_iq=rsm.xtile(intuit75k[\"numords\"], 4, rev=True),\n",
    "                       mon_iq=rsm.xtile(intuit75k[\"dollars\"], 5, rev=True))"
   ]
  },
  {
   "cell_type": "code",
   "execution_count": 7,
   "metadata": {},
   "outputs": [
    {
     "data": {
      "image/png": "[encoded data removed]",
      "text/plain": [
       "<Figure size 600x400 with 1 Axes>"
      ]
     },
     "metadata": {
      "needs_background": "light"
     },
     "output_type": "display_data"
    },
    {
     "data": {
      "image/png": "[encoded data removed]",
      "text/plain": [
       "<Figure size 600x400 with 1 Axes>"
      ]
     },
     "metadata": {
      "needs_background": "light"
     },
     "output_type": "display_data"
    },
    {
     "data": {
      "image/png": "[encoded data removed]",
      "text/plain": [
       "<Figure size 600x400 with 1 Axes>"
      ]
     },
     "metadata": {
      "needs_background": "light"
     },
     "output_type": "display_data"
    }
   ],
   "source": [
    "fig = rsm.prop_plot(intuit75k, \"rec_iq\", \"res1_yes\", 1)\n",
    "fig = fig.set_xlabel(\"Recency quintiles (rec_iq)\")\n",
    "plt.show()\n",
    "\n",
    "fig = rsm.prop_plot(intuit75k, \"freq_iq\", \"res1_yes\", 1)\n",
    "fig = fig.set_xlabel(\"Frequency quintiles (freq_iq)\")\n",
    "plt.show()\n",
    "\n",
    "fig = rsm.prop_plot(intuit75k, \"mon_iq\", \"res1_yes\", 1)\n",
    "fig = fig.set_xlabel(\"Monetary value quintiles (mon_iq)\")\n",
    "plt.show()"
   ]
  },
  {
   "cell_type": "code",
   "execution_count": 8,
   "metadata": {},
   "outputs": [],
   "source": [
    "#Make assumptions\n",
    "cost = 1.41\n",
    "margin = 60\n",
    "breakeven =  cost/margin"
   ]
  },
  {
   "cell_type": "code",
   "execution_count": 9,
   "metadata": {},
   "outputs": [],
   "source": [
    "# add `rfm_iq` to the intuit dataset\n",
    "intuit75k[\"rfm_iq\"] = intuit75k.rec_iq.astype(str) + intuit75k.freq_iq.astype(str) + intuit75k.mon_iq.astype(str)"
   ]
  },
  {
   "cell_type": "code",
   "execution_count": 10,
   "metadata": {},
   "outputs": [],
   "source": [
    "def response_rate(x, lev=\"Yes\"):\n",
    "    return np.nanmean(x == lev)\n",
    "\n",
    "def wave2(x, lev=\"yes\", breakeven=0):\n",
    "    return np.nanmean(x == \"Yes\") > breakeven"
   ]
  },
  {
   "cell_type": "code",
   "execution_count": 11,
   "metadata": {},
   "outputs": [],
   "source": [
    "train = intuit75k[intuit75k[\"training\"] == 1]\n",
    "\n",
    "train = train.assign(\n",
    "    wave2to_iq = train.groupby(\"rfm_iq\").res1.transform(wave2, breakeven=breakeven)\n",
    ")\n",
    "\n",
    "intuit75k[\"wave2to_iq\"] = intuit75k[\"rfm_iq\"].isin(train[train[\"wave2to_iq\"] == True].groupby(\"rfm_iq\").describe().reset_index()[\"rfm_iq\"])"
   ]
  },
  {
   "cell_type": "code",
   "execution_count": 12,
   "metadata": {},
   "outputs": [],
   "source": [
    "intuit75k[\"freq_sq\"] = intuit75k.groupby(\"rec_iq\").numords.transform(rsm.xtile, 3, rev=True)\n",
    "intuit75k[\"mon_sq\"] = intuit75k.groupby([\"rec_iq\", \"freq_sq\"]).dollars.transform(rsm.xtile, 5, rev=True)"
   ]
  },
  {
   "cell_type": "code",
   "execution_count": 13,
   "metadata": {},
   "outputs": [
    {
     "data": {
      "image/png": "[encoded data removed]",
      "text/plain": [
       "<Figure size 600x400 with 1 Axes>"
      ]
     },
     "metadata": {
      "needs_background": "light"
     },
     "output_type": "display_data"
    },
    {
     "data": {
      "image/png": "[encoded data removed]",
      "text/plain": [
       "<Figure size 600x400 with 1 Axes>"
      ]
     },
     "metadata": {
      "needs_background": "light"
     },
     "output_type": "display_data"
    },
    {
     "data": {
      "image/png": "[encoded data removed]",
      "text/plain": [
       "<Figure size 600x400 with 1 Axes>"
      ]
     },
     "metadata": {
      "needs_background": "light"
     },
     "output_type": "display_data"
    }
   ],
   "source": [
    "fig = rsm.prop_plot(intuit75k, \"rec_iq\", \"res1_yes\", 1)\n",
    "fig = fig.set_xlabel(\"Recency quintiles (rec_iq)\")\n",
    "plt.show()\n",
    "\n",
    "fig = rsm.prop_plot(intuit75k, \"freq_sq\", \"res1_yes\", 1)\n",
    "fig = fig.set_xlabel(\"Frequency quintiles (freq_sq)\")\n",
    "plt.show()\n",
    "\n",
    "fig = rsm.prop_plot(intuit75k, \"mon_sq\", \"res1_yes\", 1)\n",
    "fig = fig.set_xlabel(\"Monetary value quintiles (mon_sq)\")\n",
    "plt.show()"
   ]
  },
  {
   "cell_type": "code",
   "execution_count": 14,
   "metadata": {},
   "outputs": [],
   "source": [
    "intuit75k[\"rfm_sq\"] = intuit75k.rec_iq.astype(str) + intuit75k.freq_sq.astype(str) + intuit75k.mon_sq.astype(str)"
   ]
  },
  {
   "cell_type": "code",
   "execution_count": 15,
   "metadata": {},
   "outputs": [],
   "source": [
    "train = intuit75k[intuit75k[\"training\"] == 1]\n",
    "train = train.assign(\n",
    "    wave2to_sq = train.groupby(\"rfm_sq\").res1.transform(wave2, breakeven=breakeven)\n",
    ")\n",
    "intuit75k[\"wave2to_sq\"] = intuit75k[\"rfm_sq\"].isin(list(train[train[\"wave2to_sq\"] == True].groupby(\"rfm_sq\").describe().reset_index()[\"rfm_sq\"]))"
   ]
  },
  {
   "cell_type": "code",
   "execution_count": 16,
   "metadata": {},
   "outputs": [
    {
     "name": "stdout",
     "output_type": "stream",
     "text": [
      "ROME and profit for RMF_iq is: (1.2263826342154531, 34174.17)\n",
      "ROME and profit for RMF_sq is: (1.2670672946781443, 33701.76)\n"
     ]
    }
   ],
   "source": [
    "def perf_calc_actual(dat = intuit75k, wave2to = None, perf = \"res1_yes\", lev = 1):\n",
    "\n",
    "    sub_dat1 = dat[dat[\"training\"] == 1]\n",
    "    sub_dat0 = dat[dat[\"training\"] == 0]\n",
    "    \n",
    "    nr_sms = len(sub_dat0[(sub_dat0[wave2to] == True)])\n",
    "    sms_cost = nr_sms * cost\n",
    "    nr_responses = len(sub_dat0[(sub_dat0[wave2to] == True) & (sub_dat0[perf] == lev)])\n",
    "    revenue = nr_responses * margin\n",
    "    profit = revenue - sms_cost\n",
    "    ROME = profit / sms_cost\n",
    "   \n",
    "    return ROME, profit #nr_sms, sms_cost, nr_responses, response_rate, revenue\n",
    "\n",
    "print(\"ROME and profit for RMF_iq is:\",perf_calc_actual(wave2to=\"wave2to_iq\", perf=\"res1_yes\", lev=1))\n",
    "print(\"ROME and profit for RMF_sq is:\",perf_calc_actual(wave2to=\"wave2to_sq\", perf=\"res1_yes\", lev=1))"
   ]
  },
  {
   "cell_type": "code",
   "execution_count": 17,
   "metadata": {},
   "outputs": [
    {
     "name": "stdout",
     "output_type": "stream",
     "text": [
      "             index     OR    OR%   2.5%  97.5% p.values     \n",
      "1      sex[T.Male]  0.990  -1.0%  0.895  1.097    0.854     \n",
      "2   sex[T.Unknown]  0.990  -1.0%  0.856  1.144    0.887     \n",
      "3         zip_bins  0.946  -5.4%  0.939  0.953   < .001  ***\n",
      "4          numords  1.250  25.0%  1.205  1.297   < .001  ***\n",
      "5          dollars  1.001   0.1%  1.000  1.001   < .001  ***\n",
      "6          bizflag  1.047   4.7%  0.953  1.150     0.34     \n",
      "7             last  0.958  -4.2%  0.954  0.963   < .001  ***\n",
      "8       sincepurch  1.037   3.7%  1.033  1.042   < .001  ***\n",
      "9         version1  0.993  -0.7%  0.895  1.103    0.902     \n",
      "10      owntaxprod  1.443  44.3%  1.186  1.757   < .001  ***\n",
      "\n",
      "Pseudo R-squared (McFadden): 0.065\n",
      "Pseudo R-squared (McFadden adjusted): 0.064\n",
      "Area under the RO Curve (AUC): 0.699\n",
      "Log-likelihood: -9393.036, AIC: 18808.072, BIC: 18905.626\n",
      "Chi-squared: 52761.163 df(10), p.value < 0.001 \n",
      "Nr obs: 52,500\n",
      "\n",
      "None\n",
      "         variable    vif    Rsq\n",
      "0         numords  1.558  0.358\n",
      "1         dollars  1.527  0.345\n",
      "2  sex[T.Unknown]  1.403  0.287\n",
      "3     sex[T.Male]  1.403  0.287\n",
      "4        version1  1.395  0.283\n",
      "5      sincepurch  1.385  0.278\n",
      "6      owntaxprod  1.025  0.024\n",
      "7            last  1.017  0.017\n",
      "8         bizflag  1.000  0.000\n",
      "9        zip_bins  1.000  0.000\n"
     ]
    }
   ],
   "source": [
    "lr_data = intuit75k.copy()\n",
    "\n",
    "lr_normal1 = smf.glm(formula = \"res1_yes ~ zip_bins + sex +numords + dollars + bizflag + last + sincepurch + version1 + owntaxprod\",\n",
    "                family=Binomial(link=logit()),\n",
    "                data= lr_data[lr_data[\"training\"] == 1]\n",
    "                ).fit()\n",
    "\n",
    "\n",
    "print(rsm.or_ci(lr_normal1))\n",
    "print(rsm.model_fit(lr_normal1))\n",
    "print(rsm.vif(lr_normal1))"
   ]
  },
  {
   "cell_type": "code",
   "execution_count": 18,
   "metadata": {},
   "outputs": [
    {
     "name": "stdout",
     "output_type": "stream",
     "text": [
      "ROME and profit for LR_normal_1 is: (1.5686859678450966, 36568.47)\n"
     ]
    }
   ],
   "source": [
    "lr_data[\"pred_proba_normal_1\"] = lr_normal1.predict(lr_data)\n",
    "lr_data[\"pred_yes_normal_1\"] = lr_data[\"pred_proba_normal_1\"].apply(lambda x: 1 if x > breakeven else 0)\n",
    "print(\"ROME and profit for LR_normal_1 is:\",perf_calc_actual(dat = lr_data, wave2to=\"pred_yes_normal_1\", perf=\"res1_yes\", lev=1))"
   ]
  },
  {
   "cell_type": "markdown",
   "metadata": {},
   "source": [
    "### Feature Engineering: One-hot, 0-1 normalize, new tiles"
   ]
  },
  {
   "cell_type": "code",
   "execution_count": 19,
   "metadata": {},
   "outputs": [],
   "source": [
    "intuit75k = intuit75k.assign(rec_iq=rsm.xtile(intuit75k[\"last\"], 7),\n",
    "                       freq_iq=rsm.xtile(intuit75k[\"numords\"], 7, rev=True),\n",
    "                       mon_iq=rsm.xtile(intuit75k[\"dollars\"], 9, rev=True),\n",
    "                       zip_bins = rsm.xtile(intuit75k[\"zip\"].astype(float), 30)\n",
    "                            )"
   ]
  },
  {
   "cell_type": "code",
   "execution_count": 20,
   "metadata": {},
   "outputs": [],
   "source": [
    "intuit75k = pd.concat(\n",
    "    [\n",
    "        intuit75k,\n",
    "        pd.get_dummies(intuit75k[\"sex\"], prefix='sex', drop_first = True),\n",
    "        pd.get_dummies(intuit75k[\"zip_bins\"], prefix='zip', drop_first = True),\n",
    "        pd.get_dummies(intuit75k[\"rec_iq\"], prefix='rec_iq', drop_first = True),\n",
    "        pd.get_dummies(intuit75k[\"freq_iq\"], prefix='freq_iq', drop_first = True),\n",
    "        pd.get_dummies(intuit75k[\"mon_iq\"], prefix='mon_iq', drop_first = True),\n",
    "        pd.get_dummies(intuit75k[\"freq_sq\"], prefix='freq_sq', drop_first = True),\n",
    "        pd.get_dummies(intuit75k[\"mon_sq\"], prefix='mon_sq', drop_first = True)\n",
    "        ],\n",
    "    axis = 1   \n",
    ")\n",
    "\n"
   ]
  },
  {
   "cell_type": "code",
   "execution_count": 21,
   "metadata": {},
   "outputs": [],
   "source": [
    "intuit75k[\"avg_dollar\"] = intuit75k[\"dollars\"] / intuit75k[\"numords\"]"
   ]
  },
  {
   "cell_type": "code",
   "execution_count": 22,
   "metadata": {},
   "outputs": [],
   "source": [
    "# 0-1 normalize\n",
    "from sklearn import preprocessing\n",
    "min_max_scaler = preprocessing.MinMaxScaler()\n",
    "\n",
    "columns = [\"numords\", \"dollars\", \"last\", \"sincepurch\", \"avg_dollar\"]\n",
    "columns_01 = [\"numords_01\", \"dollars_01\", \"last_01\", \"sincepurch_01\", \"avg_dollar_01\"]\n",
    "x = intuit75k[columns]\n",
    "features_01 = pd.DataFrame(min_max_scaler.fit_transform(x), columns = columns_01)\n",
    "\n",
    "intuit75k = pd.concat(\n",
    "    [\n",
    "        intuit75k,\n",
    "        features_01\n",
    "        ],\n",
    "    axis = 1   \n",
    ")\n",
    "\n",
    "intuit75k.drop(columns, axis = 1, inplace = True)"
   ]
  },
  {
   "cell_type": "markdown",
   "metadata": {},
   "source": [
    "### Let's first try this normalized data in Logistic Regression"
   ]
  },
  {
   "cell_type": "code",
   "execution_count": 23,
   "metadata": {},
   "outputs": [],
   "source": [
    "lr_data = intuit75k.copy()\n",
    "lr_data = lr_data.astype({'zip_bins': 'category', \"rec_iq\":\"category\", \"freq_iq\":\"category\",\n",
    "                         \"mon_iq\":\"category\", \"freq_sq\":\"category\", \"mon_sq\":\"category\"})"
   ]
  },
  {
   "cell_type": "code",
   "execution_count": 24,
   "metadata": {},
   "outputs": [
    {
     "name": "stdout",
     "output_type": "stream",
     "text": [
      "            index     OR     OR%   2.5%   97.5% p.values     \n",
      "1   zip_bins[T.2]  0.080  -92.0%  0.061   0.103   < .001  ***\n",
      "2   zip_bins[T.3]  0.087  -91.3%  0.067   0.114   < .001  ***\n",
      "3   zip_bins[T.4]  0.071  -92.9%  0.053   0.094   < .001  ***\n",
      "4   zip_bins[T.5]  0.067  -93.3%  0.050   0.089   < .001  ***\n",
      "5   zip_bins[T.6]  0.084  -91.6%  0.065   0.109   < .001  ***\n",
      "..            ...    ...     ...    ...     ...      ...  ...\n",
      "58     numords_01  1.679   67.9%  1.352   2.086   < .001  ***\n",
      "59     dollars_01  3.581  258.1%  0.782  16.405      0.1     \n",
      "60        last_01  0.420  -58.0%  0.143   1.234    0.114     \n",
      "61  sincepurch_01  1.105   10.5%  0.837   1.458     0.48     \n",
      "62  avg_dollar_01  6.171  517.1%  1.247  30.531    0.026    *\n",
      "\n",
      "[62 rows x 7 columns]\n",
      "\n",
      "Pseudo R-squared (McFadden): 0.135\n",
      "Pseudo R-squared (McFadden adjusted): 0.129\n",
      "Area under the RO Curve (AUC): 0.767\n",
      "Log-likelihood: -8689.305, AIC: 17500.61, BIC: 18041.592\n",
      "Chi-squared: 51238.267 df(60), p.value < 0.001 \n",
      "Nr obs: 52,500\n",
      "\n",
      "None\n"
     ]
    },
    {
     "name": "stderr",
     "output_type": "stream",
     "text": [
      "/usr/local/lib/python3.8/dist-packages/statsmodels/regression/linear_model.py:1715: RuntimeWarning: divide by zero encountered in double_scalars\n",
      "  return 1 - self.ssr/self.centered_tss\n",
      "/usr/local/lib/python3.8/dist-packages/statsmodels/stats/outliers_influence.py:193: RuntimeWarning: divide by zero encountered in double_scalars\n",
      "  vif = 1. / (1. - r_squared_i)\n"
     ]
    },
    {
     "name": "stdout",
     "output_type": "stream",
     "text": [
      "          variable    vif    Rsq\n",
      "0     freq_iq[T.7]    inf  1.000\n",
      "1       numords_01    inf  1.000\n",
      "2     freq_iq[T.2]    inf  1.000\n",
      "3     freq_sq[T.3]    inf  1.000\n",
      "4     freq_iq[T.3]    inf  1.000\n",
      "..             ...    ...    ...\n",
      "57   zip_bins[T.4]  1.906  0.475\n",
      "58  zip_bins[T.30]  1.903  0.475\n",
      "59  zip_bins[T.14]  1.892  0.472\n",
      "60      owntaxprod  1.039  0.038\n",
      "61         bizflag  1.001  0.001\n",
      "\n",
      "[62 rows x 3 columns]\n"
     ]
    }
   ],
   "source": [
    "lr_feature_eng = smf.glm(formula = \"res1_yes ~ zip_bins + bizflag + version1 + owntaxprod + upgraded + \\\n",
    "rec_iq + freq_iq + mon_iq + freq_sq + mon_sq + numords_01 + dollars_01 + last_01 + sincepurch_01 + avg_dollar_01\",\n",
    "                family=Binomial(link=logit()),\n",
    "                data= lr_data[lr_data[\"training\"] == 1]\n",
    "                ).fit()\n",
    "print(rsm.or_ci(lr_feature_eng))\n",
    "print(rsm.model_fit(lr_feature_eng))\n",
    "print(rsm.vif(lr_feature_eng))"
   ]
  },
  {
   "cell_type": "code",
   "execution_count": 25,
   "metadata": {},
   "outputs": [
    {
     "name": "stdout",
     "output_type": "stream",
     "text": [
      "AUC is: 0.7624881619935449\n",
      "Recall Score is: 0.8730734360834089\n",
      "Precision Score is 0.07023557727372183\n",
      "ROME and profit for LR_feature_eng is: (1.9887479690945464, 38447.490000000005)\n"
     ]
    }
   ],
   "source": [
    "from sklearn.metrics import roc_auc_score\n",
    "from sklearn.metrics import recall_score\n",
    "from sklearn.metrics import precision_score\n",
    "\n",
    "lr_data[\"pred_proba_feature_eng\"] = lr_feature_eng.predict(lr_data)\n",
    "lr_data[\"pred_yes_feature_eng\"] = lr_data[\"pred_proba_feature_eng\"].apply(lambda x: 1 if x > breakeven else 0)\n",
    "\n",
    "\n",
    "print(\"AUC is:\", roc_auc_score(lr_data[lr_data[\"training\"] == 0][\"res1_yes\"], lr_data[lr_data[\"training\"] == 0][\"pred_proba_feature_eng\"]))\n",
    "print(\"Recall Score is:\", recall_score(lr_data[lr_data[\"training\"] == 0][\"res1_yes\"], lr_data[lr_data[\"training\"] == 0][\"pred_yes_feature_eng\"]))\n",
    "print(\"Precision Score is\", precision_score(lr_data[lr_data[\"training\"] == 0][\"res1_yes\"], lr_data[lr_data[\"training\"] == 0][\"pred_yes_feature_eng\"]))\n",
    "print(\"ROME and profit for LR_feature_eng is:\",perf_calc_actual(dat = lr_data, wave2to=\"pred_yes_feature_eng\", perf=\"res1_yes\", lev=1))"
   ]
  },
  {
   "cell_type": "code",
   "execution_count": 26,
   "metadata": {},
   "outputs": [],
   "source": [
    "# Copy the full data and clean\n",
    "train_test = intuit75k.copy()\n",
    "\n",
    "\n",
    "#Could add or drop more columns based on model performance, remember to transfer non-numeric columns!\n",
    "train_test.drop(['id', 'zip', 'zip_bins','sex', 'res1','rec_iq','freq_iq','mon_iq','rfm_iq','wave2to_iq', 'freq_sq','mon_sq','rfm_sq', 'wave2to_sq'], axis=1, inplace = True)"
   ]
  },
  {
   "cell_type": "code",
   "execution_count": 27,
   "metadata": {},
   "outputs": [
    {
     "name": "stderr",
     "output_type": "stream",
     "text": [
      "/usr/local/lib/python3.8/dist-packages/pandas/core/frame.py:4308: SettingWithCopyWarning: \n",
      "A value is trying to be set on a copy of a slice from a DataFrame\n",
      "\n",
      "See the caveats in the documentation: https://pandas.pydata.org/pandas-docs/stable/user_guide/indexing.html#returning-a-view-versus-a-copy\n",
      "  return super().drop(\n"
     ]
    }
   ],
   "source": [
    "train = train_test[train_test[\"training\"] == 1]\n",
    "test = train_test[train_test[\"training\"] == 0]\n",
    "\n",
    "train.drop([\"training\"], axis = 1, inplace = True)\n",
    "test.drop([\"training\"], axis = 1, inplace = True)\n",
    "\n",
    "y_train = np.array(train[\"res1_yes\"])\n",
    "y_test = np.array(test[\"res1_yes\"])\n",
    "\n",
    "train.drop([\"res1_yes\"], axis = 1, inplace = True)\n",
    "test.drop([\"res1_yes\"], axis = 1, inplace = True)\n",
    "\n",
    "x_train = np.array(train)\n",
    "x_test = np.array(test)"
   ]
  },
  {
   "cell_type": "code",
   "execution_count": 28,
   "metadata": {},
   "outputs": [
    {
     "data": {
      "text/html": [
       "<div>\n",
       "<style scoped>\n",
       "    .dataframe tbody tr th:only-of-type {\n",
       "        vertical-align: middle;\n",
       "    }\n",
       "\n",
       "    .dataframe tbody tr th {\n",
       "        vertical-align: top;\n",
       "    }\n",
       "\n",
       "    .dataframe thead th {\n",
       "        text-align: right;\n",
       "    }\n",
       "</style>\n",
       "<table border=\"1\" class=\"dataframe\">\n",
       "  <thead>\n",
       "    <tr style=\"text-align: right;\">\n",
       "      <th></th>\n",
       "      <th>id</th>\n",
       "      <th>res1_yes</th>\n",
       "      <th>pred_proba</th>\n",
       "      <th>pred_yes</th>\n",
       "    </tr>\n",
       "  </thead>\n",
       "  <tbody>\n",
       "    <tr>\n",
       "      <th>1</th>\n",
       "      <td>2</td>\n",
       "      <td>0</td>\n",
       "      <td>0.032088</td>\n",
       "      <td>1</td>\n",
       "    </tr>\n",
       "    <tr>\n",
       "      <th>2</th>\n",
       "      <td>3</td>\n",
       "      <td>0</td>\n",
       "      <td>0.094337</td>\n",
       "      <td>1</td>\n",
       "    </tr>\n",
       "    <tr>\n",
       "      <th>4</th>\n",
       "      <td>5</td>\n",
       "      <td>0</td>\n",
       "      <td>0.031437</td>\n",
       "      <td>1</td>\n",
       "    </tr>\n",
       "    <tr>\n",
       "      <th>6</th>\n",
       "      <td>7</td>\n",
       "      <td>0</td>\n",
       "      <td>0.042587</td>\n",
       "      <td>1</td>\n",
       "    </tr>\n",
       "    <tr>\n",
       "      <th>8</th>\n",
       "      <td>9</td>\n",
       "      <td>0</td>\n",
       "      <td>0.017850</td>\n",
       "      <td>0</td>\n",
       "    </tr>\n",
       "    <tr>\n",
       "      <th>...</th>\n",
       "      <td>...</td>\n",
       "      <td>...</td>\n",
       "      <td>...</td>\n",
       "      <td>...</td>\n",
       "    </tr>\n",
       "    <tr>\n",
       "      <th>74981</th>\n",
       "      <td>74982</td>\n",
       "      <td>0</td>\n",
       "      <td>0.019811</td>\n",
       "      <td>0</td>\n",
       "    </tr>\n",
       "    <tr>\n",
       "      <th>74982</th>\n",
       "      <td>74983</td>\n",
       "      <td>0</td>\n",
       "      <td>0.018260</td>\n",
       "      <td>0</td>\n",
       "    </tr>\n",
       "    <tr>\n",
       "      <th>74987</th>\n",
       "      <td>74988</td>\n",
       "      <td>0</td>\n",
       "      <td>0.092308</td>\n",
       "      <td>1</td>\n",
       "    </tr>\n",
       "    <tr>\n",
       "      <th>74993</th>\n",
       "      <td>74994</td>\n",
       "      <td>1</td>\n",
       "      <td>0.193930</td>\n",
       "      <td>1</td>\n",
       "    </tr>\n",
       "    <tr>\n",
       "      <th>74999</th>\n",
       "      <td>75000</td>\n",
       "      <td>0</td>\n",
       "      <td>0.072165</td>\n",
       "      <td>1</td>\n",
       "    </tr>\n",
       "  </tbody>\n",
       "</table>\n",
       "<p>22500 rows × 4 columns</p>\n",
       "</div>"
      ],
      "text/plain": [
       "          id  res1_yes  pred_proba  pred_yes\n",
       "1          2         0    0.032088         1\n",
       "2          3         0    0.094337         1\n",
       "4          5         0    0.031437         1\n",
       "6          7         0    0.042587         1\n",
       "8          9         0    0.017850         0\n",
       "...      ...       ...         ...       ...\n",
       "74981  74982         0    0.019811         0\n",
       "74982  74983         0    0.018260         0\n",
       "74987  74988         0    0.092308         1\n",
       "74993  74994         1    0.193930         1\n",
       "74999  75000         0    0.072165         1\n",
       "\n",
       "[22500 rows x 4 columns]"
      ]
     },
     "execution_count": 28,
     "metadata": {},
     "output_type": "execute_result"
    }
   ],
   "source": [
    "from sklearn.linear_model import LogisticRegression\n",
    "clf = LogisticRegression(penalty = 'l1', C = 1, solver = 'liblinear', max_iter = 1000).fit(x_train, y_train)\n",
    "pred_proba = clf.predict_proba(x_test)[:,1]\n",
    "pred_result = pd.DataFrame({\"id\":intuit75k[intuit75k[\"training\"] == 0]['id'],\n",
    "              \"res1_yes\":intuit75k[intuit75k[\"training\"] == 0]['res1_yes'],\n",
    "             \"pred_proba\":pred_proba})\n",
    "pred_result[\"pred_yes\"] = pred_result[\"pred_proba\"].apply(lambda x: 1 if x > breakeven else 0)\n",
    "pred_result"
   ]
  },
  {
   "cell_type": "code",
   "execution_count": 29,
   "metadata": {},
   "outputs": [
    {
     "name": "stdout",
     "output_type": "stream",
     "text": [
      "AUC is: 0.7629938208688816\n",
      "Recall Score is: 0.8803263825929284\n",
      "Precision Score is 0.06933238129239558\n",
      "Profit is: 39882.06\n"
     ]
    }
   ],
   "source": [
    "print(\"AUC is:\", roc_auc_score(y_test, pred_result[\"pred_proba\"]))\n",
    "print(\"Recall Score is:\", recall_score(y_test, pred_result[\"pred_yes\"]))\n",
    "print(\"Precision Score is\", precision_score(y_test, pred_result[\"pred_yes\"]))\n",
    "\n",
    "#For the purposes of this exercise assume each mail piece costs $1.41 and that the margin (or net revenue) from each responder, excluding the mailing cost, is $60.\n",
    "profit = margin * pred_result[(pred_result[\"pred_yes\"] == 1) & (pred_result[\"res1_yes\"] == 1)].shape[0] - cost * pred_result[(pred_result[\"pred_yes\"] == 1) & (pred_result[\"res1_yes\"] == 0)].shape[0]\n",
    "print(\"Profit is:\", profit)"
   ]
  },
  {
   "cell_type": "code",
   "execution_count": 30,
   "metadata": {},
   "outputs": [],
   "source": [
    "from sklearn import metrics\n",
    "from sklearn.inspection import permutation_importance\n",
    "from sklearn.model_selection import GridSearchCV, cross_val_score, train_test_split\n",
    "from sklearn.neural_network import MLPClassifier"
   ]
  },
  {
   "cell_type": "code",
   "execution_count": 31,
   "metadata": {},
   "outputs": [],
   "source": [
    "def nn(X, y, hlsizes=(1,), max_iter=1000):\n",
    "    return MLPClassifier(\n",
    "        activation=\"tanh\",\n",
    "        solver=\"lbfgs\",\n",
    "        hidden_layer_sizes=hlsizes,\n",
    "        random_state=1234,\n",
    "        max_iter=max_iter,\n",
    "    ).fit(X, y)\n",
    "\n",
    "\n",
    "def importance(clf, X, y, cn):\n",
    "    imp = permutation_importance(\n",
    "        clf, X, y, scoring=\"roc_auc\", n_repeats=10, random_state=1234\n",
    "    )\n",
    "    data = pd.DataFrame(imp.importances.T)\n",
    "    data.columns = cn\n",
    "    order = data.agg(\"mean\").sort_values(ascending=False).index\n",
    "    fig = sns.barplot(\n",
    "        x=\"value\", y=\"variable\", color=\"slateblue\", data=pd.melt(data[order])\n",
    "    )\n",
    "    fig.set(title=\"Permutation Importances\", xlabel=None, ylabel=None)\n",
    "    return fig"
   ]
  },
  {
   "cell_type": "code",
   "execution_count": 32,
   "metadata": {},
   "outputs": [
    {
     "data": {
      "text/plain": [
       "GridSearchCV(estimator=MLPClassifier(), n_jobs=5,\n",
       "             param_grid={'activation': ['logistic'],\n",
       "                         'early_stopping': [True, False],\n",
       "                         'hidden_layer_sizes': [8, (6, 6)],\n",
       "                         'max_iter': [100, 200], 'solver': ['adam', 'lbfgs']},\n",
       "             scoring='roc_auc')"
      ]
     },
     "execution_count": 32,
     "metadata": {},
     "output_type": "execute_result"
    }
   ],
   "source": [
    "hls = [(8), (6,6)]\n",
    "activation = [\"logistic\"]\n",
    "solver = [\"adam\", \"lbfgs\"]\n",
    "max_iter = [100, 200]\n",
    "early_stopping = [True, False]\n",
    "\n",
    "param_grid = {\"hidden_layer_sizes\": hls,\n",
    "              \"activation\":activation,\n",
    "              \"solver\":solver,\n",
    "              \"max_iter\":max_iter,\n",
    "              \"early_stopping\":early_stopping}\n",
    "\n",
    "model = MLPClassifier()\n",
    "clf_cv = GridSearchCV(model, param_grid, scoring = \"roc_auc\", n_jobs = 5)\n",
    "clf_cv.fit(x_train, y_train)\n"
   ]
  },
  {
   "cell_type": "code",
   "execution_count": 33,
   "metadata": {},
   "outputs": [
    {
     "data": {
      "text/plain": [
       "{'activation': 'logistic',\n",
       " 'early_stopping': False,\n",
       " 'hidden_layer_sizes': (6, 6),\n",
       " 'max_iter': 100,\n",
       " 'solver': 'adam'}"
      ]
     },
     "execution_count": 33,
     "metadata": {},
     "output_type": "execute_result"
    }
   ],
   "source": [
    "clf_cv.best_params_"
   ]
  },
  {
   "cell_type": "code",
   "execution_count": 34,
   "metadata": {},
   "outputs": [
    {
     "data": {
      "image/png": "[encoded data removed]",
      "text/plain": [
       "<Figure size 600x400 with 1 Axes>"
      ]
     },
     "metadata": {
      "needs_background": "light"
     },
     "output_type": "display_data"
    }
   ],
   "source": [
    "pred_train = pd.DataFrame().assign(\n",
    "    actual = y_train, pred = clf_cv.predict_proba(x_train)[:, 1]\n",
    ")\n",
    "pred_test = pd.DataFrame().assign(actual = y_test, pred=clf_cv.predict_proba(x_test)[:, 1])\n",
    "\n",
    "dct = {\"train\": pred_train, \"test\": pred_test}\n",
    "fig = rsm.gains_plot(dct, \"actual\", 1, \"pred\").legend(title=None)"
   ]
  },
  {
   "cell_type": "code",
   "execution_count": 35,
   "metadata": {},
   "outputs": [
    {
     "data": {
      "image/png": "[encoded data removed]",
      "text/plain": [
       "<Figure size 1200x800 with 1 Axes>"
      ]
     },
     "metadata": {
      "needs_background": "light"
     },
     "output_type": "display_data"
    }
   ],
   "source": [
    "mpl.rcParams[\"figure.dpi\"] = 200\n",
    "fig = importance(clf_cv, x_train, y_train, train.columns)"
   ]
  },
  {
   "cell_type": "code",
   "execution_count": 36,
   "metadata": {},
   "outputs": [
    {
     "data": {
      "text/html": [
       "<div>\n",
       "<style scoped>\n",
       "    .dataframe tbody tr th:only-of-type {\n",
       "        vertical-align: middle;\n",
       "    }\n",
       "\n",
       "    .dataframe tbody tr th {\n",
       "        vertical-align: top;\n",
       "    }\n",
       "\n",
       "    .dataframe thead th {\n",
       "        text-align: right;\n",
       "    }\n",
       "</style>\n",
       "<table border=\"1\" class=\"dataframe\">\n",
       "  <thead>\n",
       "    <tr style=\"text-align: right;\">\n",
       "      <th></th>\n",
       "      <th>id</th>\n",
       "      <th>res1_yes</th>\n",
       "      <th>pred_proba</th>\n",
       "      <th>pred_yes</th>\n",
       "    </tr>\n",
       "  </thead>\n",
       "  <tbody>\n",
       "    <tr>\n",
       "      <th>1</th>\n",
       "      <td>2</td>\n",
       "      <td>0</td>\n",
       "      <td>0.031791</td>\n",
       "      <td>1</td>\n",
       "    </tr>\n",
       "    <tr>\n",
       "      <th>2</th>\n",
       "      <td>3</td>\n",
       "      <td>0</td>\n",
       "      <td>0.077207</td>\n",
       "      <td>1</td>\n",
       "    </tr>\n",
       "    <tr>\n",
       "      <th>4</th>\n",
       "      <td>5</td>\n",
       "      <td>0</td>\n",
       "      <td>0.030047</td>\n",
       "      <td>1</td>\n",
       "    </tr>\n",
       "    <tr>\n",
       "      <th>6</th>\n",
       "      <td>7</td>\n",
       "      <td>0</td>\n",
       "      <td>0.032807</td>\n",
       "      <td>1</td>\n",
       "    </tr>\n",
       "    <tr>\n",
       "      <th>8</th>\n",
       "      <td>9</td>\n",
       "      <td>0</td>\n",
       "      <td>0.015301</td>\n",
       "      <td>0</td>\n",
       "    </tr>\n",
       "    <tr>\n",
       "      <th>...</th>\n",
       "      <td>...</td>\n",
       "      <td>...</td>\n",
       "      <td>...</td>\n",
       "      <td>...</td>\n",
       "    </tr>\n",
       "    <tr>\n",
       "      <th>74981</th>\n",
       "      <td>74982</td>\n",
       "      <td>0</td>\n",
       "      <td>0.017948</td>\n",
       "      <td>0</td>\n",
       "    </tr>\n",
       "    <tr>\n",
       "      <th>74982</th>\n",
       "      <td>74983</td>\n",
       "      <td>0</td>\n",
       "      <td>0.018317</td>\n",
       "      <td>0</td>\n",
       "    </tr>\n",
       "    <tr>\n",
       "      <th>74987</th>\n",
       "      <td>74988</td>\n",
       "      <td>0</td>\n",
       "      <td>0.134268</td>\n",
       "      <td>1</td>\n",
       "    </tr>\n",
       "    <tr>\n",
       "      <th>74993</th>\n",
       "      <td>74994</td>\n",
       "      <td>1</td>\n",
       "      <td>0.175038</td>\n",
       "      <td>1</td>\n",
       "    </tr>\n",
       "    <tr>\n",
       "      <th>74999</th>\n",
       "      <td>75000</td>\n",
       "      <td>0</td>\n",
       "      <td>0.076451</td>\n",
       "      <td>1</td>\n",
       "    </tr>\n",
       "  </tbody>\n",
       "</table>\n",
       "<p>22500 rows × 4 columns</p>\n",
       "</div>"
      ],
      "text/plain": [
       "          id  res1_yes  pred_proba  pred_yes\n",
       "1          2         0    0.031791         1\n",
       "2          3         0    0.077207         1\n",
       "4          5         0    0.030047         1\n",
       "6          7         0    0.032807         1\n",
       "8          9         0    0.015301         0\n",
       "...      ...       ...         ...       ...\n",
       "74981  74982         0    0.017948         0\n",
       "74982  74983         0    0.018317         0\n",
       "74987  74988         0    0.134268         1\n",
       "74993  74994         1    0.175038         1\n",
       "74999  75000         0    0.076451         1\n",
       "\n",
       "[22500 rows x 4 columns]"
      ]
     },
     "execution_count": 36,
     "metadata": {},
     "output_type": "execute_result"
    }
   ],
   "source": [
    "pred_proba = clf_cv.predict_proba(x_test)[:,1]\n",
    "\n",
    "pred_result = pd.DataFrame({\"id\":intuit75k[intuit75k[\"training\"] == 0]['id'],\n",
    "              \"res1_yes\":intuit75k[intuit75k[\"training\"] == 0]['res1_yes'],\n",
    "             \"pred_proba\":pred_proba})\n",
    "\n",
    "pred_result[\"pred_yes\"] = pred_result[\"pred_proba\"].apply(lambda x: 1 if x > breakeven else 0)\n",
    "\n",
    "pred_result"
   ]
  },
  {
   "cell_type": "code",
   "execution_count": 37,
   "metadata": {},
   "outputs": [
    {
     "name": "stdout",
     "output_type": "stream",
     "text": [
      "AUC is: 0.7645304577695817\n",
      "Recall Score is: 0.8531278331822303\n",
      "Precision Score is 0.07411783238815375\n",
      "Profit is: 39885.45\n"
     ]
    }
   ],
   "source": [
    "print(\"AUC is:\", roc_auc_score(y_test, pred_result[\"pred_proba\"]))\n",
    "print(\"Recall Score is:\", recall_score(y_test, pred_result[\"pred_yes\"]))\n",
    "print(\"Precision Score is\", precision_score(y_test, pred_result[\"pred_yes\"]))\n",
    "\n",
    "#For the purposes of this exercise assume each mail piece costs $1.41 and that the margin (or net revenue) from each responder, excluding the mailing cost, is $60.\n",
    "profit = margin * pred_result[(pred_result[\"pred_yes\"] == 1) & (pred_result[\"res1_yes\"] == 1)].shape[0] - cost * pred_result[(pred_result[\"pred_yes\"] == 1) & (pred_result[\"res1_yes\"] == 0)].shape[0]\n",
    "print(\"Profit is:\", profit)"
   ]
  },
  {
   "cell_type": "markdown",
   "metadata": {},
   "source": [
    "### After knowing best parameters, we can adjust these parameters using Keras, which we believe is more flexible than sklean. After that we can compare the result from Keras with Sklearn"
   ]
  },
  {
   "cell_type": "code",
   "execution_count": 38,
   "metadata": {},
   "outputs": [
    {
     "name": "stdout",
     "output_type": "stream",
     "text": [
      "Epoch 1/100\n",
      "21/21 [==============================] - 1s 18ms/step - loss: 0.5224 - ProfitCal: 1.4975 - val_loss: 0.2559 - val_ProfitCal: 1.4414\n",
      "Epoch 2/100\n",
      "21/21 [==============================] - 0s 3ms/step - loss: 0.2292 - ProfitCal: 1.4407 - val_loss: 0.1935 - val_ProfitCal: 1.4414\n",
      "Epoch 3/100\n",
      "21/21 [==============================] - 0s 3ms/step - loss: 0.1934 - ProfitCal: 1.4735 - val_loss: 0.1909 - val_ProfitCal: 1.4414\n",
      "Epoch 4/100\n",
      "21/21 [==============================] - 0s 3ms/step - loss: 0.1915 - ProfitCal: 1.4584 - val_loss: 0.1907 - val_ProfitCal: 1.4414\n",
      "Epoch 5/100\n",
      "21/21 [==============================] - 0s 3ms/step - loss: 0.1915 - ProfitCal: 1.4632 - val_loss: 0.1903 - val_ProfitCal: 1.4414\n",
      "Epoch 6/100\n",
      "21/21 [==============================] - 0s 3ms/step - loss: 0.1920 - ProfitCal: 1.4814 - val_loss: 0.1898 - val_ProfitCal: 1.4414\n",
      "Epoch 7/100\n",
      "21/21 [==============================] - 0s 3ms/step - loss: 0.1857 - ProfitCal: 1.3603 - val_loss: 0.1892 - val_ProfitCal: 1.4414\n",
      "Epoch 8/100\n",
      "21/21 [==============================] - 0s 3ms/step - loss: 0.1905 - ProfitCal: 1.4712 - val_loss: 0.1881 - val_ProfitCal: 1.4414\n",
      "Epoch 9/100\n",
      "21/21 [==============================] - 0s 3ms/step - loss: 0.1827 - ProfitCal: 1.3347 - val_loss: 0.1867 - val_ProfitCal: 1.4414\n",
      "Epoch 10/100\n",
      "21/21 [==============================] - 0s 3ms/step - loss: 0.1860 - ProfitCal: 1.4249 - val_loss: 0.1854 - val_ProfitCal: 1.4414\n",
      "Epoch 11/100\n",
      "21/21 [==============================] - 0s 3ms/step - loss: 0.1871 - ProfitCal: 1.4681 - val_loss: 0.1843 - val_ProfitCal: 1.4414\n",
      "Epoch 12/100\n",
      "21/21 [==============================] - 0s 3ms/step - loss: 0.1841 - ProfitCal: 1.4249 - val_loss: 0.1832 - val_ProfitCal: 1.4414\n",
      "Epoch 13/100\n",
      "21/21 [==============================] - 0s 3ms/step - loss: 0.1888 - ProfitCal: 1.5523 - val_loss: 0.1820 - val_ProfitCal: 1.4414\n",
      "Epoch 14/100\n",
      "21/21 [==============================] - 0s 3ms/step - loss: 0.1852 - ProfitCal: 1.4967 - val_loss: 0.1809 - val_ProfitCal: 1.4414\n",
      "Epoch 15/100\n",
      "21/21 [==============================] - 0s 3ms/step - loss: 0.1819 - ProfitCal: 1.4512 - val_loss: 0.1800 - val_ProfitCal: 1.4414\n",
      "Epoch 16/100\n",
      "21/21 [==============================] - 0s 3ms/step - loss: 0.1835 - ProfitCal: 1.4907 - val_loss: 0.1793 - val_ProfitCal: 1.4414\n",
      "Epoch 17/100\n",
      "21/21 [==============================] - 0s 3ms/step - loss: 0.1791 - ProfitCal: 1.4292 - val_loss: 0.1786 - val_ProfitCal: 1.4414\n",
      "Epoch 18/100\n",
      "21/21 [==============================] - 0s 3ms/step - loss: 0.1784 - ProfitCal: 1.4208 - val_loss: 0.1781 - val_ProfitCal: 1.4414\n",
      "Epoch 19/100\n",
      "21/21 [==============================] - 0s 3ms/step - loss: 0.1765 - ProfitCal: 1.3762 - val_loss: 0.1776 - val_ProfitCal: 1.4414\n",
      "Epoch 20/100\n",
      "21/21 [==============================] - 0s 3ms/step - loss: 0.1753 - ProfitCal: 1.3713 - val_loss: 0.1771 - val_ProfitCal: 1.4525\n",
      "Epoch 21/100\n",
      "21/21 [==============================] - 0s 3ms/step - loss: 0.1741 - ProfitCal: 1.4106 - val_loss: 0.1766 - val_ProfitCal: 1.4845\n",
      "Epoch 22/100\n",
      "21/21 [==============================] - 0s 3ms/step - loss: 0.1779 - ProfitCal: 1.5109 - val_loss: 0.1762 - val_ProfitCal: 1.5355\n",
      "Epoch 23/100\n",
      "21/21 [==============================] - 0s 3ms/step - loss: 0.1757 - ProfitCal: 1.5141 - val_loss: 0.1757 - val_ProfitCal: 1.5446\n",
      "Epoch 24/100\n",
      "21/21 [==============================] - 0s 3ms/step - loss: 0.1785 - ProfitCal: 1.5648 - val_loss: 0.1753 - val_ProfitCal: 1.5460\n",
      "Epoch 25/100\n",
      "21/21 [==============================] - 0s 3ms/step - loss: 0.1831 - ProfitCal: 1.7070 - val_loss: 0.1748 - val_ProfitCal: 1.5977\n",
      "Epoch 26/100\n",
      "21/21 [==============================] - 0s 3ms/step - loss: 0.1792 - ProfitCal: 1.7023 - val_loss: 0.1744 - val_ProfitCal: 1.6263\n",
      "Epoch 27/100\n",
      "21/21 [==============================] - 0s 3ms/step - loss: 0.1718 - ProfitCal: 1.5281 - val_loss: 0.1739 - val_ProfitCal: 1.6120\n",
      "Epoch 28/100\n",
      "21/21 [==============================] - 0s 3ms/step - loss: 0.1719 - ProfitCal: 1.5569 - val_loss: 0.1734 - val_ProfitCal: 1.6526\n",
      "Epoch 29/100\n",
      "21/21 [==============================] - 0s 3ms/step - loss: 0.1716 - ProfitCal: 1.5334 - val_loss: 0.1729 - val_ProfitCal: 1.6528\n",
      "Epoch 30/100\n",
      "21/21 [==============================] - 0s 3ms/step - loss: 0.1734 - ProfitCal: 1.5579 - val_loss: 0.1723 - val_ProfitCal: 1.6445\n",
      "Epoch 31/100\n",
      "21/21 [==============================] - 0s 3ms/step - loss: 0.1732 - ProfitCal: 1.6207 - val_loss: 0.1719 - val_ProfitCal: 1.6663\n",
      "Epoch 32/100\n",
      "21/21 [==============================] - 0s 3ms/step - loss: 0.1712 - ProfitCal: 1.5794 - val_loss: 0.1713 - val_ProfitCal: 1.6379\n",
      "Epoch 33/100\n",
      "21/21 [==============================] - 0s 3ms/step - loss: 0.1756 - ProfitCal: 1.6708 - val_loss: 0.1708 - val_ProfitCal: 1.6645\n",
      "Epoch 34/100\n",
      "21/21 [==============================] - 0s 3ms/step - loss: 0.1697 - ProfitCal: 1.5816 - val_loss: 0.1704 - val_ProfitCal: 1.6833\n",
      "Epoch 35/100\n",
      "21/21 [==============================] - 0s 3ms/step - loss: 0.1727 - ProfitCal: 1.6756 - val_loss: 0.1699 - val_ProfitCal: 1.6876\n",
      "Epoch 36/100\n",
      "21/21 [==============================] - 0s 3ms/step - loss: 0.1688 - ProfitCal: 1.5860 - val_loss: 0.1695 - val_ProfitCal: 1.6875\n",
      "Epoch 37/100\n",
      "21/21 [==============================] - 0s 3ms/step - loss: 0.1669 - ProfitCal: 1.5715 - val_loss: 0.1690 - val_ProfitCal: 1.6737\n",
      "Epoch 38/100\n",
      "21/21 [==============================] - 0s 3ms/step - loss: 0.1714 - ProfitCal: 1.6741 - val_loss: 0.1689 - val_ProfitCal: 1.6907\n",
      "Epoch 39/100\n",
      "21/21 [==============================] - 0s 3ms/step - loss: 0.1634 - ProfitCal: 1.5943 - val_loss: 0.1681 - val_ProfitCal: 1.6639\n",
      "Epoch 40/100\n",
      "21/21 [==============================] - 0s 3ms/step - loss: 0.1667 - ProfitCal: 1.6156 - val_loss: 0.1678 - val_ProfitCal: 1.6796\n",
      "Epoch 41/100\n",
      "21/21 [==============================] - 0s 3ms/step - loss: 0.1646 - ProfitCal: 1.5948 - val_loss: 0.1676 - val_ProfitCal: 1.6748\n",
      "Epoch 42/100\n",
      "21/21 [==============================] - 0s 3ms/step - loss: 0.1654 - ProfitCal: 1.5439 - val_loss: 0.1673 - val_ProfitCal: 1.6860\n",
      "Epoch 43/100\n",
      "21/21 [==============================] - 0s 3ms/step - loss: 0.1694 - ProfitCal: 1.6375 - val_loss: 0.1670 - val_ProfitCal: 1.6604\n",
      "Epoch 44/100\n",
      "21/21 [==============================] - 0s 3ms/step - loss: 0.1675 - ProfitCal: 1.6539 - val_loss: 0.1668 - val_ProfitCal: 1.6740\n",
      "Epoch 45/100\n",
      "21/21 [==============================] - 0s 3ms/step - loss: 0.1678 - ProfitCal: 1.6315 - val_loss: 0.1665 - val_ProfitCal: 1.6667\n",
      "Epoch 46/100\n",
      "21/21 [==============================] - 0s 3ms/step - loss: 0.1670 - ProfitCal: 1.6701 - val_loss: 0.1666 - val_ProfitCal: 1.6657\n",
      "Epoch 47/100\n",
      "21/21 [==============================] - 0s 3ms/step - loss: 0.1627 - ProfitCal: 1.6526 - val_loss: 0.1663 - val_ProfitCal: 1.6675\n",
      "Epoch 48/100\n",
      "21/21 [==============================] - 0s 3ms/step - loss: 0.1626 - ProfitCal: 1.6218 - val_loss: 0.1661 - val_ProfitCal: 1.6777\n",
      "Epoch 49/100\n",
      "21/21 [==============================] - 0s 3ms/step - loss: 0.1626 - ProfitCal: 1.6123 - val_loss: 0.1661 - val_ProfitCal: 1.6787\n",
      "Epoch 50/100\n",
      "21/21 [==============================] - 0s 3ms/step - loss: 0.1668 - ProfitCal: 1.6678 - val_loss: 0.1660 - val_ProfitCal: 1.6785\n",
      "Epoch 51/100\n",
      "21/21 [==============================] - 0s 3ms/step - loss: 0.1647 - ProfitCal: 1.6292 - val_loss: 0.1660 - val_ProfitCal: 1.6739\n",
      "Epoch 52/100\n",
      "21/21 [==============================] - 0s 3ms/step - loss: 0.1673 - ProfitCal: 1.6734 - val_loss: 0.1660 - val_ProfitCal: 1.6615\n",
      "Epoch 53/100\n",
      "21/21 [==============================] - 0s 3ms/step - loss: 0.1631 - ProfitCal: 1.6588 - val_loss: 0.1659 - val_ProfitCal: 1.6284\n",
      "Epoch 54/100\n",
      "21/21 [==============================] - 0s 3ms/step - loss: 0.1641 - ProfitCal: 1.6364 - val_loss: 0.1658 - val_ProfitCal: 1.6556\n",
      "Epoch 55/100\n",
      "21/21 [==============================] - 0s 3ms/step - loss: 0.1601 - ProfitCal: 1.6206 - val_loss: 0.1657 - val_ProfitCal: 1.6578\n",
      "Epoch 56/100\n",
      "21/21 [==============================] - 0s 3ms/step - loss: 0.1657 - ProfitCal: 1.6969 - val_loss: 0.1657 - val_ProfitCal: 1.6627\n",
      "Epoch 57/100\n",
      "21/21 [==============================] - 0s 3ms/step - loss: 0.1624 - ProfitCal: 1.6203 - val_loss: 0.1657 - val_ProfitCal: 1.6565\n",
      "Epoch 58/100\n",
      "21/21 [==============================] - 0s 3ms/step - loss: 0.1668 - ProfitCal: 1.7033 - val_loss: 0.1655 - val_ProfitCal: 1.6583\n",
      "Epoch 59/100\n",
      "21/21 [==============================] - 0s 3ms/step - loss: 0.1628 - ProfitCal: 1.6414 - val_loss: 0.1657 - val_ProfitCal: 1.6219\n",
      "Epoch 60/100\n",
      "21/21 [==============================] - 0s 3ms/step - loss: 0.1622 - ProfitCal: 1.6600 - val_loss: 0.1656 - val_ProfitCal: 1.6514\n",
      "Epoch 61/100\n",
      "21/21 [==============================] - 0s 3ms/step - loss: 0.1601 - ProfitCal: 1.5489 - val_loss: 0.1657 - val_ProfitCal: 1.6640\n",
      "Epoch 62/100\n",
      "21/21 [==============================] - 0s 3ms/step - loss: 0.1632 - ProfitCal: 1.6856 - val_loss: 0.1656 - val_ProfitCal: 1.6451\n",
      "Epoch 63/100\n",
      "21/21 [==============================] - 0s 3ms/step - loss: 0.1671 - ProfitCal: 1.6827 - val_loss: 0.1654 - val_ProfitCal: 1.6530\n",
      "Epoch 64/100\n",
      "21/21 [==============================] - 0s 3ms/step - loss: 0.1671 - ProfitCal: 1.7393 - val_loss: 0.1655 - val_ProfitCal: 1.6533\n",
      "Epoch 65/100\n",
      "21/21 [==============================] - 0s 3ms/step - loss: 0.1670 - ProfitCal: 1.7473 - val_loss: 0.1654 - val_ProfitCal: 1.6527\n",
      "Epoch 66/100\n",
      "21/21 [==============================] - 0s 3ms/step - loss: 0.1632 - ProfitCal: 1.7159 - val_loss: 0.1654 - val_ProfitCal: 1.6292\n",
      "Epoch 67/100\n",
      "21/21 [==============================] - 0s 3ms/step - loss: 0.1646 - ProfitCal: 1.6924 - val_loss: 0.1656 - val_ProfitCal: 1.6745\n",
      "Epoch 68/100\n",
      "21/21 [==============================] - 0s 3ms/step - loss: 0.1651 - ProfitCal: 1.7057 - val_loss: 0.1654 - val_ProfitCal: 1.6605\n",
      "Epoch 69/100\n",
      "21/21 [==============================] - 0s 3ms/step - loss: 0.1610 - ProfitCal: 1.5873 - val_loss: 0.1656 - val_ProfitCal: 1.6552\n",
      "Epoch 70/100\n",
      "21/21 [==============================] - 0s 3ms/step - loss: 0.1633 - ProfitCal: 1.6464 - val_loss: 0.1654 - val_ProfitCal: 1.6607\n",
      "Epoch 71/100\n",
      "21/21 [==============================] - 0s 3ms/step - loss: 0.1603 - ProfitCal: 1.6436 - val_loss: 0.1659 - val_ProfitCal: 1.6610\n",
      "Epoch 72/100\n",
      "21/21 [==============================] - 0s 3ms/step - loss: 0.1615 - ProfitCal: 1.6599 - val_loss: 0.1656 - val_ProfitCal: 1.6594\n",
      "Epoch 73/100\n",
      "21/21 [==============================] - 0s 3ms/step - loss: 0.1621 - ProfitCal: 1.6609 - val_loss: 0.1654 - val_ProfitCal: 1.6647\n"
     ]
    },
    {
     "data": {
      "text/plain": [
       "<tensorflow.python.keras.callbacks.History at 0x7fa74c2fd730>"
      ]
     },
     "execution_count": 38,
     "metadata": {},
     "output_type": "execute_result"
    }
   ],
   "source": [
    "from keras.models import Sequential\n",
    "from keras.layers import Dense, Dropout\n",
    "from keras import optimizers\n",
    "from keras.callbacks import EarlyStopping\n",
    "\n",
    "from keras import backend as K\n",
    "# Change metric function to profit\n",
    "def ProfitCal(y_true, y_pred, breakeven = 1.41 / 60):\n",
    "    y_pred = K.cast(y_pred >= breakeven, K.floatx())\n",
    "    tp = K.sum(K.round(K.clip(y_true * y_pred, 0, 1)), axis=1)\n",
    "    fp = K.sum(K.round(K.clip(y_pred - y_true, 0, 1)), axis=1)\n",
    "\n",
    "    return 60 * tp - 1.41 * (fp + tp)\n",
    "\n",
    "model = Sequential()\n",
    "model.add(Dense(6, activation = 'sigmoid', input_shape = (x_train.shape[1],)))\n",
    "#model.add(Dropout(0.2))\n",
    "#model.add(Dense(16, activation = 'relu'))\n",
    "#model.add(Dropout(0.2))\n",
    "#model.add(Dropout(0.25))\n",
    "#model.add(Dense(32, activation = 'relu'))\n",
    "#model.add(Dropout(0.2))\n",
    "#model.add(Dense(16, activation = 'sigmoid'))\n",
    "#model.add(Dropout(0.1))\n",
    "model.add(Dense(6, activation = 'sigmoid'))\n",
    "model.add(Dense(1, activation = \"sigmoid\"))\n",
    "\n",
    "# Metrics could choose: ['AUC'], metrics.Recall(), metrics.Precision()\n",
    "model.compile(optimizer = optimizers.Adam(lr=0.01), loss='binary_crossentropy', metrics = [ProfitCal])\n",
    "model.fit(x_train, y_train, batch_size = 2048, epochs=100, validation_split = 0.2, callbacks = [EarlyStopping(patience = 10)])"
   ]
  },
  {
   "cell_type": "code",
   "execution_count": 39,
   "metadata": {},
   "outputs": [
    {
     "name": "stderr",
     "output_type": "stream",
     "text": [
      "/usr/local/lib/python3.8/dist-packages/tensorflow/python/keras/engine/sequential.py:425: UserWarning: `model.predict_proba()` is deprecated and will be removed after 2021-01-01. Please use `model.predict()` instead.\n",
      "  warnings.warn('`model.predict_proba()` is deprecated and '\n"
     ]
    }
   ],
   "source": [
    "pred_proba = model.predict_proba(x_test)"
   ]
  },
  {
   "cell_type": "code",
   "execution_count": 40,
   "metadata": {},
   "outputs": [
    {
     "data": {
      "text/html": [
       "<div>\n",
       "<style scoped>\n",
       "    .dataframe tbody tr th:only-of-type {\n",
       "        vertical-align: middle;\n",
       "    }\n",
       "\n",
       "    .dataframe tbody tr th {\n",
       "        vertical-align: top;\n",
       "    }\n",
       "\n",
       "    .dataframe thead th {\n",
       "        text-align: right;\n",
       "    }\n",
       "</style>\n",
       "<table border=\"1\" class=\"dataframe\">\n",
       "  <thead>\n",
       "    <tr style=\"text-align: right;\">\n",
       "      <th></th>\n",
       "      <th>id</th>\n",
       "      <th>res1_yes</th>\n",
       "      <th>pred_proba</th>\n",
       "      <th>pred_yes</th>\n",
       "    </tr>\n",
       "  </thead>\n",
       "  <tbody>\n",
       "    <tr>\n",
       "      <th>1</th>\n",
       "      <td>2</td>\n",
       "      <td>0</td>\n",
       "      <td>0.040628</td>\n",
       "      <td>1</td>\n",
       "    </tr>\n",
       "    <tr>\n",
       "      <th>2</th>\n",
       "      <td>3</td>\n",
       "      <td>0</td>\n",
       "      <td>0.044786</td>\n",
       "      <td>1</td>\n",
       "    </tr>\n",
       "    <tr>\n",
       "      <th>4</th>\n",
       "      <td>5</td>\n",
       "      <td>0</td>\n",
       "      <td>0.030702</td>\n",
       "      <td>1</td>\n",
       "    </tr>\n",
       "    <tr>\n",
       "      <th>6</th>\n",
       "      <td>7</td>\n",
       "      <td>0</td>\n",
       "      <td>0.028510</td>\n",
       "      <td>1</td>\n",
       "    </tr>\n",
       "    <tr>\n",
       "      <th>8</th>\n",
       "      <td>9</td>\n",
       "      <td>0</td>\n",
       "      <td>0.016822</td>\n",
       "      <td>0</td>\n",
       "    </tr>\n",
       "    <tr>\n",
       "      <th>...</th>\n",
       "      <td>...</td>\n",
       "      <td>...</td>\n",
       "      <td>...</td>\n",
       "      <td>...</td>\n",
       "    </tr>\n",
       "    <tr>\n",
       "      <th>74981</th>\n",
       "      <td>74982</td>\n",
       "      <td>0</td>\n",
       "      <td>0.018279</td>\n",
       "      <td>0</td>\n",
       "    </tr>\n",
       "    <tr>\n",
       "      <th>74982</th>\n",
       "      <td>74983</td>\n",
       "      <td>0</td>\n",
       "      <td>0.015434</td>\n",
       "      <td>0</td>\n",
       "    </tr>\n",
       "    <tr>\n",
       "      <th>74987</th>\n",
       "      <td>74988</td>\n",
       "      <td>0</td>\n",
       "      <td>0.127946</td>\n",
       "      <td>1</td>\n",
       "    </tr>\n",
       "    <tr>\n",
       "      <th>74993</th>\n",
       "      <td>74994</td>\n",
       "      <td>1</td>\n",
       "      <td>0.164540</td>\n",
       "      <td>1</td>\n",
       "    </tr>\n",
       "    <tr>\n",
       "      <th>74999</th>\n",
       "      <td>75000</td>\n",
       "      <td>0</td>\n",
       "      <td>0.056279</td>\n",
       "      <td>1</td>\n",
       "    </tr>\n",
       "  </tbody>\n",
       "</table>\n",
       "<p>22500 rows × 4 columns</p>\n",
       "</div>"
      ],
      "text/plain": [
       "          id  res1_yes  pred_proba  pred_yes\n",
       "1          2         0    0.040628         1\n",
       "2          3         0    0.044786         1\n",
       "4          5         0    0.030702         1\n",
       "6          7         0    0.028510         1\n",
       "8          9         0    0.016822         0\n",
       "...      ...       ...         ...       ...\n",
       "74981  74982         0    0.018279         0\n",
       "74982  74983         0    0.015434         0\n",
       "74987  74988         0    0.127946         1\n",
       "74993  74994         1    0.164540         1\n",
       "74999  75000         0    0.056279         1\n",
       "\n",
       "[22500 rows x 4 columns]"
      ]
     },
     "execution_count": 40,
     "metadata": {},
     "output_type": "execute_result"
    }
   ],
   "source": [
    "pred_result = pd.DataFrame({\"id\":intuit75k[intuit75k[\"training\"] == 0]['id'],\n",
    "              \"res1_yes\":intuit75k[intuit75k[\"training\"] == 0]['res1_yes'],\n",
    "             \"pred_proba\":pred_proba.reshape((intuit75k[intuit75k[\"training\"] == 0].shape[0],))})\n",
    "\n",
    "pred_result[\"pred_yes\"] = pred_result[\"pred_proba\"].apply(lambda x: 1 if x > breakeven else 0)\n",
    "\n",
    "pred_result"
   ]
  },
  {
   "cell_type": "code",
   "execution_count": 41,
   "metadata": {},
   "outputs": [
    {
     "name": "stdout",
     "output_type": "stream",
     "text": [
      "AUC is: 0.7625693241835658\n",
      "Recall Score is: 0.8304623753399819\n",
      "Precision Score is 0.07700714585960487\n",
      "Profit is: 39479.61\n"
     ]
    }
   ],
   "source": [
    "print(\"AUC is:\", roc_auc_score(y_test, pred_result[\"pred_proba\"]))\n",
    "print(\"Recall Score is:\", recall_score(y_test, pred_result[\"pred_yes\"]))\n",
    "print(\"Precision Score is\", precision_score(y_test, pred_result[\"pred_yes\"]))\n",
    "\n",
    "#For the purposes of this exercise assume each mail piece costs $1.41 and that the margin (or net revenue) from each responder, excluding the mailing cost, is $60.\n",
    "profit = margin * pred_result[(pred_result[\"pred_yes\"] == 1) & (pred_result[\"res1_yes\"] == 1)].shape[0] - cost * pred_result[(pred_result[\"pred_yes\"] == 1) & (pred_result[\"res1_yes\"] == 0)].shape[0]\n",
    "print(\"Profit is:\", profit)"
   ]
  },
  {
   "cell_type": "markdown",
   "metadata": {},
   "source": [
    "### It seems that Logistic Regression has a better performance. In wave 2, every response probability in wave-2 is only 50%"
   ]
  },
  {
   "cell_type": "code",
   "execution_count": 42,
   "metadata": {},
   "outputs": [
    {
     "data": {
      "text/html": [
       "<div>\n",
       "<style scoped>\n",
       "    .dataframe tbody tr th:only-of-type {\n",
       "        vertical-align: middle;\n",
       "    }\n",
       "\n",
       "    .dataframe tbody tr th {\n",
       "        vertical-align: top;\n",
       "    }\n",
       "\n",
       "    .dataframe thead th {\n",
       "        text-align: right;\n",
       "    }\n",
       "</style>\n",
       "<table border=\"1\" class=\"dataframe\">\n",
       "  <thead>\n",
       "    <tr style=\"text-align: right;\">\n",
       "      <th></th>\n",
       "      <th>id</th>\n",
       "      <th>res1_yes</th>\n",
       "      <th>pred_proba</th>\n",
       "      <th>pred_yes</th>\n",
       "      <th>mailto_wave2</th>\n",
       "    </tr>\n",
       "  </thead>\n",
       "  <tbody>\n",
       "    <tr>\n",
       "      <th>1</th>\n",
       "      <td>2</td>\n",
       "      <td>0</td>\n",
       "      <td>0.016044</td>\n",
       "      <td>0</td>\n",
       "      <td>FALSE</td>\n",
       "    </tr>\n",
       "    <tr>\n",
       "      <th>2</th>\n",
       "      <td>3</td>\n",
       "      <td>0</td>\n",
       "      <td>0.047168</td>\n",
       "      <td>1</td>\n",
       "      <td>TRUE</td>\n",
       "    </tr>\n",
       "    <tr>\n",
       "      <th>4</th>\n",
       "      <td>5</td>\n",
       "      <td>0</td>\n",
       "      <td>0.015719</td>\n",
       "      <td>0</td>\n",
       "      <td>FALSE</td>\n",
       "    </tr>\n",
       "    <tr>\n",
       "      <th>6</th>\n",
       "      <td>7</td>\n",
       "      <td>0</td>\n",
       "      <td>0.021293</td>\n",
       "      <td>0</td>\n",
       "      <td>FALSE</td>\n",
       "    </tr>\n",
       "    <tr>\n",
       "      <th>8</th>\n",
       "      <td>9</td>\n",
       "      <td>0</td>\n",
       "      <td>0.008925</td>\n",
       "      <td>0</td>\n",
       "      <td>FALSE</td>\n",
       "    </tr>\n",
       "    <tr>\n",
       "      <th>...</th>\n",
       "      <td>...</td>\n",
       "      <td>...</td>\n",
       "      <td>...</td>\n",
       "      <td>...</td>\n",
       "      <td>...</td>\n",
       "    </tr>\n",
       "    <tr>\n",
       "      <th>74981</th>\n",
       "      <td>74982</td>\n",
       "      <td>0</td>\n",
       "      <td>0.009906</td>\n",
       "      <td>0</td>\n",
       "      <td>FALSE</td>\n",
       "    </tr>\n",
       "    <tr>\n",
       "      <th>74982</th>\n",
       "      <td>74983</td>\n",
       "      <td>0</td>\n",
       "      <td>0.009130</td>\n",
       "      <td>0</td>\n",
       "      <td>FALSE</td>\n",
       "    </tr>\n",
       "    <tr>\n",
       "      <th>74987</th>\n",
       "      <td>74988</td>\n",
       "      <td>0</td>\n",
       "      <td>0.046154</td>\n",
       "      <td>1</td>\n",
       "      <td>TRUE</td>\n",
       "    </tr>\n",
       "    <tr>\n",
       "      <th>74993</th>\n",
       "      <td>74994</td>\n",
       "      <td>1</td>\n",
       "      <td>0.096965</td>\n",
       "      <td>1</td>\n",
       "      <td>FALSE</td>\n",
       "    </tr>\n",
       "    <tr>\n",
       "      <th>74999</th>\n",
       "      <td>75000</td>\n",
       "      <td>0</td>\n",
       "      <td>0.036083</td>\n",
       "      <td>1</td>\n",
       "      <td>TRUE</td>\n",
       "    </tr>\n",
       "  </tbody>\n",
       "</table>\n",
       "<p>22500 rows × 5 columns</p>\n",
       "</div>"
      ],
      "text/plain": [
       "          id  res1_yes  pred_proba  pred_yes mailto_wave2\n",
       "1          2         0    0.016044         0        FALSE\n",
       "2          3         0    0.047168         1         TRUE\n",
       "4          5         0    0.015719         0        FALSE\n",
       "6          7         0    0.021293         0        FALSE\n",
       "8          9         0    0.008925         0        FALSE\n",
       "...      ...       ...         ...       ...          ...\n",
       "74981  74982         0    0.009906         0        FALSE\n",
       "74982  74983         0    0.009130         0        FALSE\n",
       "74987  74988         0    0.046154         1         TRUE\n",
       "74993  74994         1    0.096965         1        FALSE\n",
       "74999  75000         0    0.036083         1         TRUE\n",
       "\n",
       "[22500 rows x 5 columns]"
      ]
     },
     "execution_count": 42,
     "metadata": {},
     "output_type": "execute_result"
    }
   ],
   "source": [
    "pred_proba = clf.predict_proba(x_test)[:,1]\n",
    "\n",
    "pred_result = pd.DataFrame({\"id\":intuit75k[intuit75k[\"training\"] == 0]['id'],\n",
    "              \"res1_yes\":intuit75k[intuit75k[\"training\"] == 0]['res1_yes'],\n",
    "             \"pred_proba\":pred_proba})\n",
    "\n",
    "pred_result[\"pred_proba\"] = pred_result[\"pred_proba\"] / 2\n",
    "pred_result[\"pred_yes\"] = pred_result[\"pred_proba\"].apply(lambda x: 1 if x > breakeven else 0)\n",
    "pred_result[\"mailto_wave2\"] = np.where((pred_result.res1_yes == 0) & (pred_result.pred_yes == 1), \"TRUE\", \"FALSE\")\n",
    "\n",
    "\n",
    "#final_result = pred_result[[\"id\",\"mailto_wave2\"]]\n",
    "#final_result.to_csv(\"Kaicheng_Songqiao_Yanqiao_Tiancheng_Just4Noobs.csv\",index=False)\n",
    "\n",
    "pred_result"
   ]
  },
  {
   "cell_type": "markdown",
   "metadata": {},
   "source": [
    "### Scale to 801821 - 38487 = 763334 businesses"
   ]
  },
  {
   "cell_type": "code",
   "execution_count": 43,
   "metadata": {},
   "outputs": [
    {
     "data": {
      "text/plain": [
       "1220319.6746693335"
      ]
     },
     "execution_count": 43,
     "metadata": {},
     "output_type": "execute_result"
    }
   ],
   "source": [
    "# Since we will deduct business that has responsed (38487), we decided to keep businesses that have responsed in wave 1 when calculating mail_to_rate\n",
    "mail_to_rate = pred_result[pred_result[\"pred_yes\"] == 1].shape[0] / pred_result.shape[0]\n",
    "response_rate = pred_result[(pred_result[\"pred_yes\"] == 1) & (pred_result[\"res1_yes\"] == 1)].shape[0] / pred_result[pred_result[\"pred_yes\"] == 1].shape[0]\n",
    "mail_to_num = (801821 - 38487) * mail_to_rate\n",
    "expect_profit = mail_to_num * response_rate * margin - mail_to_num * (1 - response_rate) * cost\n",
    "expect_profit"
   ]
  },
  {
   "cell_type": "markdown",
   "metadata": {},
   "source": [
    "# MGTA 455 Project 1 Intuit Quickbooks \n",
    "\n",
    "Group 6 \n",
    "\n",
    "Tiancheng Kuang, Songqiao Li, Yanqiao Li, Kaicheng Yang \n",
    "\n",
    " \n",
    "\n",
    "The purpose of this project is to build and apply a different modeling strategy to optimize the upsell campaign. Our source data is intuit75.pkl file contains data on 75,000 small businesses selected randomly from the 801,821 that were sent the waving – 1 mailing. In this dataset we have a training column, which includes the training sample (70) and test set (30). To make the most accurate prediction, our team utilized RFM, Logistic Regression, Neural Network and Combination methodology (RFM + Logistic Regression) to build multiple prediction models. To optimize the yield of the next campaign, we aim to increase the response rate for Wave 2 based on the experience of Wave 1. The following introduced the four methodology we applied: \n",
    "\n",
    " \n",
    "\n",
    "## Describe how you developed your predictive models, and discuss predictive performance for each model \n",
    "\n",
    " \n",
    "\n",
    "### RFM: \n",
    "\n",
    "RFM model is one of the model classic models to predict the profit in this scenario. We decided to use the “last” variable as the “recency”, “numords” as the frequency, and use the “dollars” as the “monetary.” The first step of the RFM model is to determine how many bins we want for each variable, in this case, we use 5,5,5 as the default number of bins for each variable. However, the performance does not go very well, especially for sequential RFM, the third bin in frequency is slightly better than the second bin which is not what we expected. Thus, we decided to use 5,4,5 for independent RFM and 5,3,5 for sequential RFM. As mentioned in the PDF, we decided to set the cost equals 1.41, and the margin equals 60. We created three functions to find which group of customers’ response rates are greater than the breakeven point and calculate the profit of the model. The first function is the response rate function which can return the response rate for each group, the second function is the wave2 function which can tell us which group of customers’ responses rates are greater than the breakeven point. The third function called per_calc function can return the profit based on our RFM model. After trying different parameters, the final output of our independent RFM model is 34174, and 33701 for our sequential RFM model. Two outputs are not good enough, we expect we can have a better performance when using logistic regression. \n",
    "\n",
    " \n",
    "\n",
    "### Logistic Regression:  \n",
    "\n",
    "One of challenges for Logistic regression is that user do now know which variables can help us to build the “best” model. After learning the dataset, we pulled most of reasonable variables into our model and made a rough prediction (such as zip_bins , sex, numords , dollars, blizflag, last, sincepurch) . Here, we selected “zip_bins” variable instead of “zip”, because “zip” is widely spread variables. It can dramatically hurt the model's performance. The Logistic Regression model returns an AUC value as 0.698. AUC is one of the important measurements to evaluate the performance of machine learning/ modeling. However, we should also consider the accuracy of the model and the project purpose. In our scenario, we would like to raise the customer response rate in wave 2 and maximize the profit from there. Based on the regression summary, the confidence interval shows that “sex”, “bizflag” and “version1” are not statistically significant. We cut off those insignificant explanatory variables and build the model. The accuracy of the second logistic model increases from 0.3048 to 0.3049 and the profit increases $700. Following this logic, we adjusted and standardized input explanatory variables and train the model repeatedly. The performance of logistic regression is improving. But the overall accuracy and expected profits are still below our expectations. So, we decided to leverage the outputs of RFM and implemented it into the Logistic Regression.  \n",
    "\n",
    " \n",
    "\n",
    "### Advanced combination (RFM + Logistic Regression and feature engineering): \n",
    "\n",
    "Although we obtained decent accuracy & profit from the RFM and Logistic regression modeling, we suspect that they might be able to benefit from each other. Thus, we used RFM classification on the whole dataset regardless of the train-test split and aim to get the most precise classification bins for recency, frequency, and monetary. In this phase, our optimal bin selection is also based on maximizing profit for which all the logistics follows what our original RFM modeling process provides. Using the same breakeven rate of 0.345, and then decide whom to email to according to rfm_iq, we are prepared for a comprehensive loop from recency to frequency and finally monetary. Also, zip code bins were also added for iterations. Then, we tried to apply techniques including standardizing, adding interaction terms, adding regularization, stepwise selection to the logistic regression. We tested out the best condition at this point to be standardized, and non-regularization, no interaction logistic regression with Sex,  numordd, dollars, last, sincepurch, version1, upgraded, zip_bins, rec_iq, freq_iq, mon_id, with 30 zip bins, 7 recency bins, 7 frequency bins, and 9 monetary bins that yields using the testing data of 38642 in profit, which is much higher than singular RFM and singular logistic modeling. \n",
    "\n",
    " \n",
    "\n",
    "Before putting training data into neural networks, we first implemented feature engineering. We have found that Zip_bins is an important variable, thus we tiled zip code, recency, frequency, and monetary according to our best combination of 30-7-7-9. Since features like Zip_bins, rec_iq and sex are categorical features, we implement One-hot coding on them. Besides, created a new feature called avg_dollar, which represents the average money spent on each order. We applied normalization to continuous and discrete variables as it speeds up learning and leads to faster convergence. After completing feature engineering, we are now ready to train our models. To evaluate the model beyond machine learning domain, we decided not only to evaluate models based on AUC, Recall, and precision but also profit can me make on the test set. The formula for calculating profit is 60 * TP – 1.41 * FP. We found logistic regression can make about 40K profits on the test set. \n",
    "\n",
    " \n",
    "\n",
    "### Neural Network: \n",
    "\n",
    "After that, we trained two versions of neural network based on sklearn and Keras. By using sklearn, we used GridSearchCV to find the best parameters. We found that (6,6) structure with logistic as activation function and Adam as the optimizer is the best hyperparameter in this case. Then, we build a new neural network model using Keras. One advantage of Keras is that it is more flexible compared to Sklearn. For example, we can change the activation function for different layers, change batch size and set new metrics to determine early stopping. We defined a function to calculate the profit on the validation set and set patience to 10. That is, if AUC and profit on the validation set did not get improved in 10 epochs, the neural network will stop the training process. Sklearn with grid search can make 39.5K profit and Keras can make the same profit but slightly lower than the Sklearn version of the neural network. \n",
    "\n",
    " \n",
    "\n",
    "## How did you compare and evaluate different models? \n",
    "\n",
    "Our team used AUC, and the profit. We can make on the test set as metrics to compare models. Since this is a very unbalanced dataset, comparing accuracy, precision and recall will be meaningless. Since our goal is to make more profit and we can make huge profits by making correct predictions and will only undertake small costs if we target the wrong customers. Therefore, although traditional machine learning metrics like AUC are still important, we care more about the profit we can make. Thus, we mainly use the final profit on test set as the criterion for model evaluation. \n",
    "\n",
    " \n",
    "\n",
    "## If you created new variables to include in the model, please describe these as well  \n",
    "\n",
    "In the feature engineering process, we first did One-hot encoding to all categorical variables, \tthen, we generated avgDollar as Dollar/numords as we suspect it potential positive effect to the model. We also normalized all numeric variables (exclude categorical) to range 0-1. \n",
    "\n",
    " \n",
    "\n",
    "## What criteria did you use to decide which customers should receive the wave-2 mailing? \n",
    "\n",
    "Since every response probability in wave-2 is only 50% of the response probability we predicted, we divided the predicted probability by 2. If the new probability of response exceeds the breakeven rate and that customer did not respond in wave 1, we will target this customer as the one should receive the wave-2 mailing. \n",
    "\n",
    " \n",
    "\n",
    "## How much profit do you anticipate from the wave-2 mailing? \n",
    "\n",
    "We calculated the estimated contact rate based on the percentage of customers in the test set we predicted to contact and calculated the estimated response rate based on the actual respondents divided by the number of customers we targeted in the test set. Among 801,821 businesses, 38,487 have already responded, thus the total number of potential customers is 763334. By multiplying 763334, contact rate, response rate and margin together, we will get the total revenue. By multiplying 763334 with contact rate, (1 – response rate) and cost together, we will get total cost. Finally, total profit will be total revenue minus total cost, which equals 1220319. That is the anticipated profit we can make from wave-2 mailing. \n",
    "\n",
    " \n",
    "\n",
    "## What did you learn about the type of businesses that are likely to upgrade? \n",
    "\n",
    "From the summary of logistics regression and permutation importance chart, we find the number of orders, if customer upgraded from Quickbooks version 1 to version 2 are the two most important features. Thus, if a business has many numbers of orders from Intuit directly and have upgraded version 1 to version 2, this business is more likely to upgrade. "
   ]
  },
  {
   "cell_type": "code",
   "execution_count": null,
   "metadata": {},
   "outputs": [],
   "source": []
  }
 ],
 "metadata": {
  "kernelspec": {
   "display_name": "Python 3",
   "language": "python",
   "name": "python3"
  },
  "language_info": {
   "codemirror_mode": {
    "name": "ipython",
    "version": 3
   },
   "file_extension": ".py",
   "mimetype": "text/x-python",
   "name": "python",
   "nbconvert_exporter": "python",
   "pygments_lexer": "ipython3",
   "version": "3.8.5"
  }
 },
 "nbformat": 4,
 "nbformat_minor": 4
}
